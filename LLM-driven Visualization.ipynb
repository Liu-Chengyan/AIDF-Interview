{
 "cells": [
  {
   "cell_type": "code",
   "execution_count": 9,
   "id": "653a6d95",
   "metadata": {},
   "outputs": [],
   "source": [
    "import json\n",
    "from openai import OpenAI\n",
    "import matplotlib.pyplot as plt\n",
    "import seaborn as sns"
   ]
  },
  {
   "cell_type": "code",
   "execution_count": 27,
   "id": "3c0876a0",
   "metadata": {},
   "outputs": [],
   "source": [
    "with open(\"company.json\", \"r\", encoding=\"utf-8\") as f:\n",
    "    news_data = json.load(f)"
   ]
  },
  {
   "cell_type": "code",
   "execution_count": 28,
   "id": "8b835565",
   "metadata": {},
   "outputs": [],
   "source": [
    "news_data = news_data[:150]"
   ]
  },
  {
   "cell_type": "code",
   "execution_count": null,
   "id": "634e05b7",
   "metadata": {},
   "outputs": [],
   "source": [
    "client = OpenAI(api_key = \"My-OpenAI-Key\")"
   ]
  },
  {
   "cell_type": "code",
   "execution_count": 53,
   "id": "356eb721",
   "metadata": {},
   "outputs": [],
   "source": [
    "# streamlit code\n",
    "def ask_openai(instruction, dataset_json):\n",
    "    system_prompt = (\n",
    "        \"You are a very helpful Python coding assistant.\\n\"\n",
    "        \"You are given a dataset file, which contains a list of news articles.\\n\"\n",
    "        \"Each article is a dictionary with fields: 'company', 'title', 'date', 'summary'.\\n\"\n",
    "        \"Do NOT create example data yourself.\\n\"\n",
    "        \"Generate clean Python code to perform the user's requested visualization.\"\n",
    "        \"Generate clean, executable Streamlit code based on user instructions. Focus on functionality and clarity.\"\n",
    "        \"Generate statistical plot using Seaborn and Matplotlib.\\n\"\n",
    "    )\n",
    "\n",
    "    user_prompt = (\n",
    "        f\"Instruction: {instruction}\\n\"\n",
    "        f\"Dataset: {dataset_json}\\n\"\n",
    "        \"Return ONLY executable Python code, with brief explanations.\"\n",
    "    )\n",
    "\n",
    "    response = client.chat.completions.create(\n",
    "        model=\"gpt-3.5-turbo\",\n",
    "        messages=[\n",
    "            {\"role\": \"system\", \"content\": system_prompt},\n",
    "            {\"role\": \"user\", \"content\": user_prompt}\n",
    "        ]\n",
    "    )\n",
    "    code = response.choices[0].message.content\n",
    "    return code"
   ]
  },
  {
   "cell_type": "code",
   "execution_count": 31,
   "id": "8c9aa741",
   "metadata": {},
   "outputs": [],
   "source": [
    "# Prepare the dataset input\n",
    "# (Caution: if dataset is too large, may need to truncate)\n",
    "dataset_input = json.dumps(news_data, ensure_ascii=False)"
   ]
  },
  {
   "cell_type": "code",
   "execution_count": 30,
   "id": "78967f11",
   "metadata": {},
   "outputs": [
    {
     "name": "stdout",
     "output_type": "stream",
     "text": [
      "Loaded 150 news articles.\n"
     ]
    }
   ],
   "source": [
    "# Show a basic info about dataset\n",
    "print(f\"Loaded {len(news_data)} news articles.\")"
   ]
  },
  {
   "cell_type": "code",
   "execution_count": 60,
   "id": "6471f16e",
   "metadata": {},
   "outputs": [],
   "source": [
    "# Ask for user input instruction\n",
    "instruction = input(\"Enter your instruction: \")"
   ]
  },
  {
   "cell_type": "code",
   "execution_count": 61,
   "id": "ad2fde20",
   "metadata": {},
   "outputs": [
    {
     "name": "stdout",
     "output_type": "stream",
     "text": [
      "Your instruction: \"Please create a Streamlit app:\\n\"     \"- The app should have a sidebar with a company selector (AAPL, MSFT, GOOGL)\\n\"     \"- When a company is selected, display a line chart showing the number of news articles per day\\n\"     \"- Date range should be from 2025-04-01 to 2025-04-25\\n\"     \"- X-axis: date, Y-axis: number of news articles\\n\"     \"- The code must be executable directly.\\n\"         \"-the dates on the X-axis are arranged in chronological order\\n\"       \"-use data in company.json.\"\n"
     ]
    }
   ],
   "source": [
    "print(\"Your instruction:\", instruction)"
   ]
  },
  {
   "cell_type": "code",
   "execution_count": 62,
   "id": "351fa560",
   "metadata": {},
   "outputs": [],
   "source": [
    "generated_code = ask_openai(instruction, dataset_input)"
   ]
  },
  {
   "cell_type": "code",
   "execution_count": 63,
   "id": "0b719885",
   "metadata": {},
   "outputs": [
    {
     "name": "stdout",
     "output_type": "stream",
     "text": [
      "\n",
      "Generated code:\n",
      "\n",
      "```python\n",
      "import streamlit as st\n",
      "import pandas as pd\n",
      "import matplotlib.pyplot as plt\n",
      "import seaborn as sns\n",
      "\n",
      "# Load the dataset\n",
      "data = pd.read_json('company.json')\n",
      "\n",
      "# Filter data for the selected company and date range\n",
      "def filter_data(company, start_date, end_date):\n",
      "    filtered_data = data[(data['company'] == company) & (data['date'] >= start_date) & (data['date'] <= end_date)]\n",
      "    return filtered_data\n",
      "\n",
      "# Create a Streamlit app\n",
      "st.title('News Articles Visualization')\n",
      "\n",
      "# Sidebar with company selector and date range\n",
      "company = st.sidebar.selectbox('Select Company', data['company'].unique())\n",
      "start_date = '2025-04-01'\n",
      "end_date = '2025-04-25'\n",
      "\n",
      "# Filter data based on selection\n",
      "filtered_data = filter_data(company, start_date, end_date)\n",
      "\n",
      "# Prepare data for line chart\n",
      "daily_count = filtered_data.groupby('date').size().reset_index(name='count')\n",
      "\n",
      "# Create line chart\n",
      "plt.figure(figsize=(12,6))\n",
      "sns.lineplot(data=daily_count, x='date', y='count', marker='o')\n",
      "plt.title(f'Number of News Articles per Day for {company}')\n",
      "plt.xlabel('Date')\n",
      "plt.ylabel('Number of News Articles')\n",
      "plt.xticks(rotation=45)\n",
      "st.pyplot(plt)\n",
      "```\n"
     ]
    }
   ],
   "source": [
    "print(\"\\nGenerated code:\\n\")\n",
    "print(generated_code)"
   ]
  },
  {
   "cell_type": "code",
   "execution_count": null,
   "id": "9cd095d3",
   "metadata": {},
   "outputs": [
    {
     "name": "stdout",
     "output_type": "stream",
     "text": [
      "Generated code has been saved to 'generated_streamlit_code.txt'\n"
     ]
    }
   ],
   "source": [
    "with open(\"generated_streamlit_code.txt\", \"w\", encoding=\"utf-8\") as f:\n",
    "    f.write(generated_code)\n",
    "\n",
    "print(\"Generated code has been saved to 'generated_streamlit_code.txt'\")"
   ]
  },
  {
   "cell_type": "code",
   "execution_count": 49,
   "id": "ba52f178",
   "metadata": {},
   "outputs": [],
   "source": [
    "# Ask OpenAI for plot\n",
    "def ask_openai_and_plot(instruction_2, dataset_json):\n",
    "    system_prompt = (\n",
    "        \"You are a very helpful Python coding assistant.\\n\"\n",
    "        \"You are given a dataset file, which contains a list of news articles.\\n\"\n",
    "        \"Each article is a dictionary with fields: 'company', 'title', 'date', 'summary'.\\n\"\n",
    "        \"Do NOT create example data yourself.\\n\"\n",
    "        \"Directly use read the dataset file to create a pandas DataFrame.\\n\"\n",
    "        \"Then follow the user instruction to visualize the data.\\n\"\n",
    "        \"Use Seaborn and Matplotlib to create the plot.\\n\"\n",
    "    )\n",
    "\n",
    "    user_prompt = (\n",
    "        f\"Instruction: {instruction_2}\\n\"\n",
    "        f\"Dataset: {dataset_json}\\n\"\n",
    "        \"Return ONLY executable Python code, and make sure it ends with showing the plot.\"\n",
    "    )\n",
    "\n",
    "    response = client.chat.completions.create(\n",
    "        model=\"gpt-3.5-turbo\",\n",
    "        messages=[\n",
    "            {\"role\": \"system\", \"content\": system_prompt},\n",
    "            {\"role\": \"user\", \"content\": user_prompt}\n",
    "        ]\n",
    "    )\n",
    "    code = response.choices[0].message.content\n",
    "    print(\"Generated code:\\n\")\n",
    "    print(code)\n",
    "    print(\"\\nExecuting generated code...\\n\")\n",
    "    code = code.replace(\"```python\", \"\").replace(\"```\", \"\").strip()\n",
    "    try:\n",
    "        exec(code, globals())\n",
    "    except Exception as e:\n",
    "        print(f\"Error executing generated code: {e}\")"
   ]
  },
  {
   "cell_type": "code",
   "execution_count": 50,
   "id": "9ef07bb5",
   "metadata": {},
   "outputs": [],
   "source": [
    "# Ask for user input instruction\n",
    "instruction_2 = input(\"Enter your instruction (e.g., 'Draw a bar chart of article counts per company'): \")"
   ]
  },
  {
   "cell_type": "code",
   "execution_count": 51,
   "id": "94723404",
   "metadata": {},
   "outputs": [
    {
     "name": "stdout",
     "output_type": "stream",
     "text": [
      "Your instruction: Use Python to create a plot for company.json showing the number of articles per company.\n"
     ]
    }
   ],
   "source": [
    "print(\"Your instruction:\", instruction_2)"
   ]
  },
  {
   "cell_type": "code",
   "execution_count": 52,
   "id": "62f0184e",
   "metadata": {},
   "outputs": [
    {
     "name": "stdout",
     "output_type": "stream",
     "text": [
      "Generated code:\n",
      "\n",
      "```python\n",
      "import pandas as pd\n",
      "import matplotlib.pyplot as plt\n",
      "import seaborn as sns\n",
      "\n",
      "# Read the dataset file\n",
      "df = pd.read_json('company.json')\n",
      "\n",
      "# Count the number of articles per company\n",
      "article_counts = df['company'].value_counts().reset_index()\n",
      "article_counts.columns = ['company', 'article_count']\n",
      "\n",
      "# Plotting the number of articles per company\n",
      "plt.figure(figsize=(12, 6))\n",
      "sns.barplot(x='company', y='article_count', data=article_counts, palette='viridis')\n",
      "plt.title('Number of Articles per Company')\n",
      "plt.xlabel('Company')\n",
      "plt.ylabel('Number of Articles')\n",
      "plt.xticks(rotation=45)\n",
      "plt.tight_layout()\n",
      "plt.show()\n",
      "```\n",
      "\n",
      "Executing generated code...\n",
      "\n"
     ]
    },
    {
     "name": "stderr",
     "output_type": "stream",
     "text": [
      "<string>:14: FutureWarning: \n",
      "\n",
      "Passing `palette` without assigning `hue` is deprecated and will be removed in v0.14.0. Assign the `x` variable to `hue` and set `legend=False` for the same effect.\n",
      "\n"
     ]
    },
    {
     "data": {
      "image/png": "[encoded data removed]",
      "text/plain": [
       "<Figure size 1200x600 with 1 Axes>"
      ]
     },
     "metadata": {},
     "output_type": "display_data"
    }
   ],
   "source": [
    "ask_openai_and_plot(instruction_2, dataset_input)"
   ]
  }
 ],
 "metadata": {
  "kernelspec": {
   "display_name": "Python 3",
   "language": "python",
   "name": "python3"
  },
  "language_info": {
   "codemirror_mode": {
    "name": "ipython",
    "version": 3
   },
   "file_extension": ".py",
   "mimetype": "text/x-python",
   "name": "python",
   "nbconvert_exporter": "python",
   "pygments_lexer": "ipython3",
   "version": "3.9.13"
  }
 },
 "nbformat": 4,
 "nbformat_minor": 5
}
