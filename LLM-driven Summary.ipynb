{
 "cells": [
  {
   "cell_type": "code",
   "execution_count": 14,
   "id": "85d29519",
   "metadata": {},
   "outputs": [],
   "source": [
    "import json\n",
    "import pandas as pd\n",
    "import io\n",
    "from openai import OpenAI"
   ]
  },
  {
   "cell_type": "code",
   "execution_count": null,
   "id": "752f9b20",
   "metadata": {},
   "outputs": [],
   "source": [
    "client = OpenAI(api_key = \"My-Open AI-Key\")"
   ]
  },
  {
   "cell_type": "code",
   "execution_count": 72,
   "id": "d8728d6e",
   "metadata": {},
   "outputs": [],
   "source": [
    "def summarize_titles(instructions):\n",
    "    system_prompt = (\n",
    "        # basic description of the task\n",
    "        \"You are a very helpful assistant.\\n\"\n",
    "        \"You are given a dataset file, which contains a list of news articles.\\n\"\n",
    "        \"Each article is a dictionary with fields: 'company', 'title', 'date', 'summary'.\\n\"\n",
    "        \"Your task is to use the 'company' and 'title' to generate a structured table with three columns: Company, Sentiment, and Summary.\\n\"\n",
    "\n",
    "        # sentiment analysis\n",
    "        \"Use a deep language model (such as BERT) for sentiment analysis, focusing on the actual meaning rather than relying only on keywords.\\n\"\n",
    "        \"Sentiment should be Positive, Negative, or Neutral based on the title.\\n\"\n",
    "        \n",
    "        # summary generation\n",
    "        \"For the Summary column, rephrase and summarize the title based on deep semantic understanding, as if using a paraphrasing model like BART or T5.\\n\"\n",
    "        \"Rephrase each title into 1–2 concise sentences, capturing the key idea. Do NOT repeat the title verbatim, do NOT write generic placeholders such as 'Paraphrased summary of the title.'\\n\"\n",
    "        \"You must perform the analysis yourself. Do NOT define or refer to any additional functions (such as paraphrase_title()) or similar.\\n\"\n",
    "        \"DO NOT create summaries based on the company name or sentiment label.\\n\"\n",
    "        \"DO NOT use any generic templates or repetitive phrases like 'insights about operations' or 'provides outlook.'\\n\"\n",
    "        \"Do NOT generate or suggest any sample code. Only produce the final table content directly.\\n\"\n",
    "        \"Every row must reflect the actual information contained in the corresponding title.\\n\"\n",
    "        \"Summary should paraphrase the title in 1-2 sentences, without simply copying or repeating the original title wording.\\n\"\n",
    "        \"Every summary must reflect the actual content and meaning of the title, not generalize based on sentiment.\\n\"\n",
    "        \"Do NOT define or refer to any functions. Do NOT generate sample code. Only produce the final summarized content directly.\\n\"\n",
    "\n",
    "        # instruction to the model\n",
    "        \"Do not include any explanation, sample code, or notes outside the table.\\n\"\n",
    "        \"Do not invent information not present in the title.\\n\"\n",
    "        \"Strictly follow the upper instructions and do not add any additional information.\"\n",
    "        \"If you do not strictly rephrase each title individually based on its actual content, the output will be considered invalid.\\n\"\n",
    "    )\n",
    "\n",
    "    user_prompt = (\n",
    "        f\"Instruction: {instruction}\\n\"\n",
    "        \"Return ONLY executable Python code, with brief explanations.\"\n",
    "        \"Output a Markdown table with columns: Company | Sentiment | Summary.\"\n",
    "    )\n",
    "\n",
    "    response = client.chat.completions.create(\n",
    "        model=\"gpt-4-turbo\",\n",
    "        messages=[\n",
    "            {\"role\": \"system\", \"content\": system_prompt},\n",
    "            {\"role\": \"user\", \"content\": user_prompt}\n",
    "        ]\n",
    "    )\n",
    "\n",
    "    code = response.choices[0].message.content\n",
    "    code = code.replace(\"```python\", \"\").replace(\"```\", \"\").strip()\n",
    "    return code"
   ]
  },
  {
   "cell_type": "code",
   "execution_count": 67,
   "id": "d60b9630",
   "metadata": {},
   "outputs": [],
   "source": [
    "# Ask for user input instruction\n",
    "instruction = input(\"Enter your instruction: \")"
   ]
  },
  {
   "cell_type": "code",
   "execution_count": 68,
   "id": "d4497db7",
   "metadata": {},
   "outputs": [
    {
     "name": "stdout",
     "output_type": "stream",
     "text": [
      "Your instruction: Given a dataset company.json, pls give me the sentiment analysis and summary of the title as a Markdown table. DO NOT create summaries based on the company name or sentiment label. Do NOT repeat the title.\n"
     ]
    }
   ],
   "source": [
    "print(\"Your instruction:\", instruction)"
   ]
  },
  {
   "cell_type": "code",
   "execution_count": 73,
   "id": "acc87f60",
   "metadata": {},
   "outputs": [],
   "source": [
    "generated_code = summarize_titles(instruction)"
   ]
  },
  {
   "cell_type": "code",
   "execution_count": 74,
   "id": "60373955",
   "metadata": {},
   "outputs": [
    {
     "name": "stdout",
     "output_type": "stream",
     "text": [
      "Generated code:\n",
      "\n",
      "import json\n",
      "from transformers import pipeline\n",
      "\n",
      "# Load the dataset\n",
      "with open('company.json', 'r') as file:\n",
      "    data = json.load(file)\n",
      "\n",
      "# Set up the sentiment analysis pipeline\n",
      "sentiment_analyzer = pipeline(\"sentiment-analysis\")\n",
      "\n",
      "# Prepare the markdown table\n",
      "markdown_table = \"Company | Sentiment | Summary\\n--- | --- | ---\\n\"\n",
      "\n",
      "# Set up the paraphrasing model\n",
      "paraphraser = pipeline(\"text2text-generation\", model=\"t5-base\")\n",
      "\n",
      "for article in data:\n",
      "    company = article['company']\n",
      "    title = article['title']\n",
      "    \n",
      "    # Sentiment analysis\n",
      "    sentiment_result = sentiment_analyzer(title)\n",
      "    sentiment_label = sentiment_result[0]['label']\n",
      "    if sentiment_label == 'LABEL_0':\n",
      "        sentiment = 'Negative'\n",
      "    elif sentiment_label == 'LABEL_1':\n",
      "        sentiment = 'Neutral'\n",
      "    else:\n",
      "        sentiment = 'Positive'  # Assuming LABEL_2 is 'Positive'\n",
      "    \n",
      "    # Paraphrasing the title\n",
      "    paraphrased_title = paraphraser(f\"paraphrase: {title}\", max_length=50)[0]['generated_text']\n",
      "    \n",
      "    # Append to the markdown table\n",
      "    markdown_table += f\"{company} | {sentiment} | {paraphrased_title}\\n\"\n",
      "\n",
      "# Print the final markdown table\n",
      "print(markdown_table)\n",
      "\n",
      "\n",
      "This code snippet analyzes sentiments and paraphrases titles from a list of news articles stored in a JSON file named `company.json`. It then organizes the results in a Markdown-formatted table with columns representing the company name, the sentiment of the title, and a paraphrased summary of the title. The sentiment analysis uses a transformer model, and for paraphrasing, the T5 model is deployed. This setup helps to present the distilled insights from each news article in a clear, structured manner, encapsulating both the emotional tone and the contextual translation of the titles.\n"
     ]
    }
   ],
   "source": [
    "print(\"Generated code:\\n\")\n",
    "print(generated_code)"
   ]
  },
  {
   "cell_type": "code",
   "execution_count": 75,
   "id": "40a11cc1",
   "metadata": {},
   "outputs": [
    {
     "name": "stdout",
     "output_type": "stream",
     "text": [
      "Generated code has been saved to 'generated_sentiment_code.txt'\n"
     ]
    }
   ],
   "source": [
    "with open(\"generated_sentiment_code.txt\", \"w\", encoding=\"utf-8\") as f:\n",
    "    f.write(generated_code)\n",
    "\n",
    "print(\"Generated code has been saved to 'generated_sentiment_code.txt'\")"
   ]
  }
 ],
 "metadata": {
  "kernelspec": {
   "display_name": "Python 3",
   "language": "python",
   "name": "python3"
  },
  "language_info": {
   "codemirror_mode": {
    "name": "ipython",
    "version": 3
   },
   "file_extension": ".py",
   "mimetype": "text/x-python",
   "name": "python",
   "nbconvert_exporter": "python",
   "pygments_lexer": "ipython3",
   "version": "3.9.13"
  }
 },
 "nbformat": 4,
 "nbformat_minor": 5
}
